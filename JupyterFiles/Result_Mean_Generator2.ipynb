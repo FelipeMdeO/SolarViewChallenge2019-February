{
 "cells": [
  {
   "cell_type": "code",
   "execution_count": 1,
   "metadata": {},
   "outputs": [],
   "source": [
    "# This script will be receive a value of latitude and longitude, will connect in database\n",
    "# process result obtained and generate a graph\n",
    "%matplotlib inline\n",
    "import pymysql\n",
    "import time\n",
    "import geopip\n",
    "import matplotlib.pyplot as plt\n",
    "import matplotlib.dates as mdates"
   ]
  },
  {
   "cell_type": "code",
   "execution_count": 2,
   "metadata": {},
   "outputs": [
    {
     "name": "stdout",
     "output_type": "stream",
     "text": [
      "Digite a latitude desejada: -10\n",
      "Digite a longitude desejada: -53\n"
     ]
    }
   ],
   "source": [
    "# input data\n",
    "latitude = input(\"Digite a latitude desejada: \")\n",
    "longitude = input(\"Digite a longitude desejada: \")\n",
    "\n",
    "latitude = float(latitude)\n",
    "longitude = float(longitude)\n",
    "\n",
    "startTime = time.time()\n",
    "\n",
    "connection = pymysql.connect(host='localhost',\n",
    "                             database='nasadata',\n",
    "                             user='root',\n",
    "                             passwd='felipe3211')\n",
    "\n",
    "mycursor = connection.cursor()"
   ]
  },
  {
   "cell_type": "code",
   "execution_count": 3,
   "metadata": {},
   "outputs": [],
   "source": [
    "sql = \"SELECT * from irradiation2 WHERE latitude =%s AND longitude =%s\""
   ]
  },
  {
   "cell_type": "code",
   "execution_count": 4,
   "metadata": {},
   "outputs": [
    {
     "data": {
      "text/plain": [
       "444"
      ]
     },
     "execution_count": 4,
     "metadata": {},
     "output_type": "execute_result"
    }
   ],
   "source": [
    "try:\n",
    "    response = geopip.search(lat=latitude, lng=longitude)\n",
    "    country = response.get('NAME')\n",
    "    if country != 'Brazil':\n",
    "        exit(\"Coords do not belong to Brazil!\")\n",
    "except:\n",
    "    exit(\"Coords do not belong to Brazil!\")\n",
    "\n",
    "# Process latitude and longitude to do reguest to database\n",
    "rounded_lat = round(latitude, 1)\n",
    "rounded_lng = round(longitude, 1)\n",
    "\n",
    "# Bellow I Have decimal parte of earch number\n",
    "decimal_part_of_lat = round(rounded_lat-int(rounded_lat), 1)\n",
    "decimal_part_of_lng = round(rounded_lng-int(rounded_lng), 1)\n",
    "\n",
    "# Verify if I have the latitude in DB\n",
    "increment_lat = 0\n",
    "increment_lng = 0\n",
    "if decimal_part_of_lat*10 % 2 == 0:\n",
    "    pass\n",
    "else:\n",
    "    increment_lat = 0.1\n",
    "\n",
    "if decimal_part_of_lng*10 % 2 == 0:\n",
    "    pass\n",
    "else:\n",
    "    increment_lng = 0.1\n",
    "\n",
    "lat_query = round(rounded_lat+increment_lat, 1)\n",
    "lng_query = round(rounded_lng+increment_lng, 1)\n",
    "\n",
    "val = (lat_query, lng_query)\n",
    "mycursor.execute(sql, val)"
   ]
  },
  {
   "cell_type": "code",
   "execution_count": 5,
   "metadata": {},
   "outputs": [],
   "source": [
    "records = mycursor.fetchall()\n",
    "# todo insert here tratment to case record are empty"
   ]
  },
  {
   "cell_type": "code",
   "execution_count": 6,
   "metadata": {},
   "outputs": [],
   "source": [
    "list_of_months = [[], [], [], [], [], [], [], [], [], [], [], []]  # List 12 X N\n",
    "for row in records:\n",
    "    identify, lat, lng, year, month, value = row\n",
    "    if value == -999.0:  # append only valid values\n",
    "        continue\n",
    "    list_of_months[int(month)-1].append(float(value))\n"
   ]
  },
  {
   "cell_type": "code",
   "execution_count": 7,
   "metadata": {},
   "outputs": [
    {
     "name": "stdout",
     "output_type": "stream",
     "text": [
      "Para o mes 1 a media foi 4.8876470588235295\n",
      "Para o mes 2 a media foi 4.915882352941176\n",
      "Para o mes 3 a media foi 4.765294117647057\n",
      "Para o mes 4 a media foi 4.877941176470587\n",
      "Para o mes 5 a media foi 5.02470588235294\n",
      "Para o mes 6 a media foi 5.460882352941176\n",
      "Para o mes 7 a media foi 5.767428571428571\n",
      "Para o mes 8 a media foi 5.980000000000001\n",
      "Para o mes 9 a media foi 5.693428571428571\n",
      "Para o mes 10 a media foi 5.449142857142856\n",
      "Para o mes 11 a media foi 5.107142857142858\n",
      "Para o mes 12 a media foi 4.825714285714285\n"
     ]
    }
   ],
   "source": [
    "month_averages = []\n",
    "for i in range(12):\n",
    "    average = sum(list_of_months[i])/len(list_of_months[i])\n",
    "    month_averages.append((float(average)))\n",
    "    print(\"Para o mes {} a media foi {}\".format(i+1, average))\n",
    "\n",
    "\n",
    "endTime = time.time()\n",
    "totalTime = endTime - startTime"
   ]
  },
  {
   "cell_type": "code",
   "execution_count": 8,
   "metadata": {},
   "outputs": [],
   "source": [
    "# Set the locator\n",
    "locator = mdates.MonthLocator\n",
    "# Specify the format - %b gives up Jan, Feb...\n",
    "fmt = mdates.DateFormatter('%b')\n",
    "month_list = ['January', 'February', 'March', 'April', 'May', 'June', 'July',\n",
    "              'August', 'September', 'October', 'November', 'December']\n"
   ]
  },
  {
   "cell_type": "code",
   "execution_count": 11,
   "metadata": {},
   "outputs": [
    {
     "data": {
      "text/plain": [
       "<Figure size 432x288 with 0 Axes>"
      ]
     },
     "metadata": {},
     "output_type": "display_data"
    },
    {
     "data": {
      "image/png": "[encoded data removed]",
      "text/plain": [
       "<Figure size 432x288 with 1 Axes>"
      ]
     },
     "metadata": {
      "needs_background": "light"
     },
     "output_type": "display_data"
    }
   ],
   "source": [
    "font1 = {\n",
    "    'weight': 'bold'\n",
    "}\n",
    "\n",
    "# plot area\n",
    "plt.figure()\n",
    "fix, ax = plt.subplots(1, 1)\n",
    "\n",
    "# todo parametrise values of x and y with base of max and min value of irradiation\n",
    "#plt.text(x=0, y=3, s=\"Latitude: \", fontdict=font1)\n",
    "#plt.text(x=2, y=3, s=str(latitude))\n",
    "#plt.text(x=0, y=2.5, s=\"Longitude: \", fontdict=font1)\n",
    "#plt.text(x=2, y=2.5, s=str(longitude))\n",
    "\n",
    "ax.plot(month_list, month_averages, 'o-')\n",
    "\n",
    "plt.xticks(rotation=-45)\n",
    "plt.ylabel('kW-hr/m^2/day')\n",
    "plt.grid(True)\n",
    "\n",
    "plt.title('All Sky Insolation Average per Month of lat = {} lon = {}'.format(str(latitude), str(longitude)))\n",
    "plt.show()"
   ]
  },
  {
   "cell_type": "code",
   "execution_count": null,
   "metadata": {},
   "outputs": [],
   "source": []
  }
 ],
 "metadata": {
  "kernelspec": {
   "display_name": "Python 3",
   "language": "python",
   "name": "python3"
  },
  "language_info": {
   "codemirror_mode": {
    "name": "ipython",
    "version": 3
   },
   "file_extension": ".py",
   "mimetype": "text/x-python",
   "name": "python",
   "nbconvert_exporter": "python",
   "pygments_lexer": "ipython3",
   "version": "3.7.1"
  }
 },
 "nbformat": 4,
 "nbformat_minor": 2
}
