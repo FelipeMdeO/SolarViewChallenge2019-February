{
 "cells": [
  {
   "cell_type": "code",
   "execution_count": 5,
   "metadata": {},
   "outputs": [],
   "source": [
    "# This script have functions to find brazil coords and mount database\n",
    "# with sun irradiation value for each coord\n"
   ]
  },
  {
   "cell_type": "code",
   "execution_count": null,
   "metadata": {},
   "outputs": [],
   "source": [
    "import requests\n",
    "import mysql.connector\n",
    "import time\n",
    "import geopip\n",
    "import numpy"
   ]
  },
  {
   "cell_type": "code",
   "execution_count": null,
   "metadata": {},
   "outputs": [],
   "source": [
    "startTime = time.time()\n",
    "\n",
    "print(\"Running\")\n",
    "\n",
    "URL = \"https://power.larc.nasa.gov/cgi-bin/v1/DataAccess.py?request=execute&\" \\\n",
    "      \"identifier=SinglePoint&parameters=ALLSKY_SFC_SW_DWN&startDate=1981&\" \\\n",
    "      \"endDate=2017&userCommunity=SSE&tempAverage=INTERANNUAL&\" \\\n",
    "      \"outputList=ASCII&user=anonymous\"\n",
    "\n",
    "connection = mysql.connector.connect(host='localhost',\n",
    "                                     database='nasadata',\n",
    "                                     user='root',\n",
    "                                     passwd='******')\n",
    "\n",
    "mycursor = connection.cursor()"
   ]
  },
  {
   "cell_type": "code",
   "execution_count": null,
   "metadata": {},
   "outputs": [],
   "source": [
    "def request_data_from_api(lat, lng):\n",
    "    \"\"\"\n",
    "    This function receive a valid coords and send request to NASA API to inform\n",
    "    solar irradiance in time\n",
    "    When receive results call function to inset data in MySQL database\n",
    "    :param lat: latitude to request solar irradiance information\n",
    "    :param lng: longitude to request solar irradiance information\n",
    "    :return:\n",
    "    \"\"\"\n",
    "    PARAMS = {'lat': lat, 'lon': lng}\n",
    "\n",
    "    # sending get request and saving the response as response object\n",
    "    r = requests.get(url=URL, params=PARAMS)\n",
    "\n",
    "    # Convert bytes to string type and string type to dict\n",
    "    data = r.content\n",
    "    data = data.decode('utf-8')\n",
    "\n",
    "    list_of_strings = []\n",
    "    for string in data.splitlines():\n",
    "        list_of_strings.append(string)\n",
    "\n",
    "    flag = False\n",
    "    for s in list_of_strings:\n",
    "        if not flag and 'ALLSKY_SFC_SW_DWN' in s:   #start detected\n",
    "            flag = True\n",
    "            continue\n",
    "        if '}' in s and flag:\n",
    "            break   #end detected\n",
    "        if flag:\n",
    "            #format data to database\n",
    "            latitude = lat\n",
    "            longitude = lng\n",
    "            splited_line = s.split(':')\n",
    "            irradiation_value = float(splited_line[1].replace(\",\", \"\"))\n",
    "            aux = str(splited_line[0].replace(\" \", \"\"))\n",
    "            month = aux[5:]\n",
    "            year = aux[:5]\n",
    "            print(\"\\tData Insert in DB: \" + str(latitude) + \", \" + str(longitude) + \", \" + str(year)\n",
    "                  + \", \" + str(month) + \", \" + str(irradiation_value))\n",
    "            sql = \"INSERT INTO irradiation2 (latitude, longitude, year, month, incidence) VALUES (%s, %s, %s, %s, %s)\"\n",
    "            year = int(''.join(filter(lambda x: x.isdigit(), year)))\n",
    "            month = int(''.join(filter(lambda x: x.isdigit(), month)))\n",
    "            if month == 13:\n",
    "                continue  # 13 position is year mean, I no need this\n",
    "            val = (latitude, longitude, year, month, irradiation_value)\n",
    "            mycursor.execute(sql, val)\n",
    "            #print(mycursor.rowcount, \"record inserted.\")\n",
    "            connection.commit()\n"
   ]
  },
  {
   "cell_type": "code",
   "execution_count": null,
   "metadata": {},
   "outputs": [],
   "source": [
    "def fill_DB():\n",
    "    \"\"\"\n",
    "    function to show all Brazil coords with offset of 0.2 degrees in each coords.\n",
    "    0.2 degrees result in maximum of 11 km of erro offset. (1 degree is 111 km)\n",
    "    To do it, the function receveid extremy coords of Brazil and use loop\n",
    "    verifying in library imported for how country this coords are.\n",
    "    If coords from Brazil, this function request to other function to \n",
    "    get data from NASA API\n",
    "    :return: \n",
    "    \"\"\"\n",
    "\n",
    "    # TODO Alter this method to method using shape file\n",
    "    # TODO Do method to visualize in DB last line insert and work after ir\n",
    "    # use to it SELECT * FROM irradiation ORDER BY id DESC LIMIT 1; and catch last lat and lng\n",
    "    # TODO Use threads to acelerate this process\n",
    "\n",
    "    lat_max =   4.5\n",
    "    lat_min = -34.0\n",
    "    lng_dir = -33.0\n",
    "    lng_esq = -74.0\n",
    "\n",
    "    for lat in numpy.arange(lat_min, lat_max, 0.2):\n",
    "        for lng in numpy.arange(lng_esq, lng_dir, 0.2):\n",
    "            try:\n",
    "                response = geopip.search(lat=lat, lng=lng)\n",
    "                country = response.get('NAME')\n",
    "                if country == 'Brazil':\n",
    "                    print(\"Working at latitude= \" + str(lat) + \" longitude= \" + str(lng))\n",
    "                    # todo insert while here to restart download when connection return\n",
    "                    request_data_from_api(lat=lat, lng=lng)\n",
    "            except:\n",
    "                continue\n",
    "\n"
   ]
  },
  {
   "cell_type": "code",
   "execution_count": null,
   "metadata": {},
   "outputs": [],
   "source": [
    "fill_DB()"
   ]
  },
  {
   "cell_type": "code",
   "execution_count": null,
   "metadata": {},
   "outputs": [],
   "source": [
    "endTime = time.time()\n",
    "totalTime = endTime - startTime\n",
    "\n",
    "print(\"The total time to catch data was \" + str(totalTime))"
   ]
  },
  {
   "cell_type": "code",
   "execution_count": null,
   "metadata": {},
   "outputs": [],
   "source": []
  },
  {
   "cell_type": "code",
   "execution_count": null,
   "metadata": {},
   "outputs": [],
   "source": []
  },
  {
   "cell_type": "code",
   "execution_count": null,
   "metadata": {},
   "outputs": [],
   "source": []
  }
 ],
 "metadata": {
  "kernelspec": {
   "display_name": "Python 3",
   "language": "python",
   "name": "python3"
  },
  "language_info": {
   "codemirror_mode": {
    "name": "ipython",
    "version": 3
   },
   "file_extension": ".py",
   "mimetype": "text/x-python",
   "name": "python",
   "nbconvert_exporter": "python",
   "pygments_lexer": "ipython3",
   "version": "3.7.1"
  }
 },
 "nbformat": 4,
 "nbformat_minor": 2
}
