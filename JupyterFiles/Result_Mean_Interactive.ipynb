{
 "cells": [
  {
   "cell_type": "code",
   "execution_count": 1,
   "metadata": {},
   "outputs": [],
   "source": [
    "from ipywidgets import interact, interactive, IntSlider, Layout\n",
    "import ipywidgets as widgets\n",
    "from IPython.display import display\n",
    "\n",
    "import numpy as np\n",
    "import matplotlib.pyplot as plt\n",
    "import matplotlib.dates as mdates\n",
    "%matplotlib inline\n",
    "\n",
    "import pandas as pd"
   ]
  },
  {
   "cell_type": "code",
   "execution_count": 2,
   "metadata": {},
   "outputs": [],
   "source": [
    "import pymysql\n",
    "import geopip"
   ]
  },
  {
   "cell_type": "code",
   "execution_count": 3,
   "metadata": {},
   "outputs": [],
   "source": [
    "from sklearn.linear_model import logistic\n",
    "from sklearn.model_selection import train_test_split"
   ]
  },
  {
   "cell_type": "code",
   "execution_count": 8,
   "metadata": {},
   "outputs": [],
   "source": [
    "def func(latitude, longitude):\n",
    "    connection = pymysql.connect(host='localhost',\n",
    "                             database='nasadata',\n",
    "                             user='root',\n",
    "                             passwd='felipe3211')\n",
    "\n",
    "    mycursor = connection.cursor()\n",
    "    \n",
    "    sql = \"SELECT * from irradiation2 WHERE latitude =%s AND longitude =%s\"\n",
    "    \n",
    "    try:\n",
    "        response = geopip.search(lat=latitude, lng=longitude)\n",
    "        country = response.get('NAME')\n",
    "        \n",
    "        if country != 'Brazil':\n",
    "            exit(\"Coords do not belong to Brazil!\")\n",
    "    except:\n",
    "        exit(\"Coords do not belong to Brazil!\")\n",
    "\n",
    "    # Process latitude and longitude to do reguest to database\n",
    "    rounded_lat = round(latitude, 1)\n",
    "    rounded_lng = round(longitude, 1)\n",
    "\n",
    "    # Bellow I Have decimal parte of earch number\n",
    "    decimal_part_of_lat = round(rounded_lat-int(rounded_lat), 1)\n",
    "    decimal_part_of_lng = round(rounded_lng-int(rounded_lng), 1)\n",
    "\n",
    "    # Verify if I have the latitude in DB\n",
    "    increment_lat = 0\n",
    "    increment_lng = 0\n",
    "    if decimal_part_of_lat*10 % 2 == 0:\n",
    "        pass\n",
    "    else:\n",
    "        increment_lat = 0.1\n",
    "\n",
    "    if decimal_part_of_lng*10 % 2 == 0:\n",
    "        pass\n",
    "    else:\n",
    "        increment_lng = 0.1\n",
    "\n",
    "    lat_query = round(rounded_lat+increment_lat, 1)\n",
    "    lng_query = round(rounded_lng+increment_lng, 1)\n",
    "\n",
    "    val = (lat_query, lng_query)\n",
    "    mycursor.execute(sql, val)\n",
    "    records = mycursor.fetchall()\n",
    "# todo insert here tratment to case record are empty\n",
    "    list_of_months = [[], [], [], [], [], [], [], [], [], [], [], []]  # List 12 X N\n",
    "    for row in records:\n",
    "        identify, lat, lng, year, month, value = row\n",
    "        if value == -999.0:  # append only valid values\n",
    "            continue\n",
    "        list_of_months[int(month)-1].append(float(value))\n",
    "        month_averages = []\n",
    "        \n",
    "    for i in range(12):\n",
    "        average = sum(list_of_months[i])/len(list_of_months[i])\n",
    "        month_averages.append((float(average)))\n",
    "        #print(\"Para o mes {} a media foi {}\".format(i+1, average))\n",
    "        \n",
    "        # Set the locator\n",
    "    locator = mdates.MonthLocator\n",
    "    # Specify the format - %b gives up Jan, Feb...\n",
    "    fmt = mdates.DateFormatter('%b')\n",
    "    month_list = ['January', 'February', 'March', 'April', 'May', 'June', 'July',\n",
    "                  'August', 'September', 'October', 'November', 'December']\n",
    "    \n",
    "    font1 = {\n",
    "    'weight': 'bold'\n",
    "    }\n",
    "\n",
    "    # plot area\n",
    "    plt.figure()\n",
    "    fix, ax = plt.subplots(1, 1)\n",
    "\n",
    "    # todo parametrise values of x and y with base of max and min value of irradiation\n",
    "    #plt.text(x=0, y=3, s=\"Latitude: \", fontdict=font1)\n",
    "    #plt.text(x=2, y=3, s=str(latitude))\n",
    "    #plt.text(x=0, y=2.5, s=\"Longitude: \", fontdict=font1)\n",
    "    #plt.text(x=2, y=2.5, s=str(longitude))\n",
    "\n",
    "    ax.plot(month_list, month_averages, 'o-')\n",
    "\n",
    "    plt.xticks(rotation=-45)\n",
    "    plt.ylabel('kW-hr/m^2/day')\n",
    "    plt.grid(True)\n",
    "\n",
    "    plt.title('All Sky Insolation Average per Month of lat = {} lon = {}'.format(str(latitude), str(longitude)))\n",
    "    plt.rcParams['figure.figsize'] = [10, 7]\n",
    "    plt.show()\n"
   ]
  },
  {
   "cell_type": "code",
   "execution_count": 9,
   "metadata": {},
   "outputs": [
    {
     "data": {
      "application/vnd.jupyter.widget-view+json": {
       "model_id": "da0596441d61437bbb755d92e1eb96b8",
       "version_major": 2,
       "version_minor": 0
      },
      "text/plain": [
       "interactive(children=(IntSlider(value=-15, description='latitude', max=4, min=-34), IntSlider(value=-54, descr…"
      ]
     },
     "metadata": {},
     "output_type": "display_data"
    }
   ],
   "source": [
    "pl=interactive(func, latitude=(-34,4,1), longitude=(-74,-33,1))\n",
    "display(pl)"
   ]
  },
  {
   "cell_type": "code",
   "execution_count": null,
   "metadata": {},
   "outputs": [],
   "source": []
  }
 ],
 "metadata": {
  "kernelspec": {
   "display_name": "Python 3",
   "language": "python",
   "name": "python3"
  },
  "language_info": {
   "codemirror_mode": {
    "name": "ipython",
    "version": 3
   },
   "file_extension": ".py",
   "mimetype": "text/x-python",
   "name": "python",
   "nbconvert_exporter": "python",
   "pygments_lexer": "ipython3",
   "version": "3.7.1"
  }
 },
 "nbformat": 4,
 "nbformat_minor": 2
}
