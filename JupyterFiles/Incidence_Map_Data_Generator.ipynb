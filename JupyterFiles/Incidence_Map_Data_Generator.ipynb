{
 "cells": [
  {
   "cell_type": "code",
   "execution_count": 1,
   "metadata": {},
   "outputs": [],
   "source": [
    "import pymysql\n",
    "import time\n"
   ]
  },
  {
   "cell_type": "code",
   "execution_count": 2,
   "metadata": {},
   "outputs": [],
   "source": [
    "startTime = time.time()\n",
    "\n",
    "connection = pymysql.connect(host='localhost',\n",
    "                             database='nasadata',\n",
    "                             user='root',\n",
    "                             passwd='felipe3211')\n",
    "\n",
    "mycursor = connection.cursor()"
   ]
  },
  {
   "cell_type": "code",
   "execution_count": 3,
   "metadata": {},
   "outputs": [
    {
     "name": "stdout",
     "output_type": "stream",
     "text": [
      "Digite o ano a ser avaliado: 2017\n"
     ]
    }
   ],
   "source": [
    "file = open('output.txt', 'w')\n",
    "year = input(\"Digite o ano a ser avaliado: \")"
   ]
  },
  {
   "cell_type": "code",
   "execution_count": 4,
   "metadata": {},
   "outputs": [],
   "source": [
    "startTime = time.time()\n",
    "\n",
    "sql = \"SELECT latitude, longitude, incidence  from irradiation2 WHERE year = %s\"\n",
    "val = (year, )\n",
    "mycursor.execute(sql, val)\n",
    "records = mycursor.fetchall()"
   ]
  },
  {
   "cell_type": "code",
   "execution_count": 5,
   "metadata": {},
   "outputs": [],
   "source": [
    "# todo give tratmet to case of invalid value returned of DB\n",
    "i = 0\n",
    "incidence_average = 0\n",
    "for row in records:\n",
    "    latitude, longitude, incidence = row\n",
    "    incidence_average = incidence_average + incidence\n",
    "    if i >= 11:\n",
    "        incidence_average = incidence_average/12\n",
    "        line_to_file = str(latitude) + ';' + str(round(longitude, 1)) + ';' + str(incidence_average) + '\\n'\n",
    "        file.write(line_to_file)\n",
    "        incidence_average = 0\n",
    "        i = 0\n",
    "    i = i + 1\n"
   ]
  },
  {
   "cell_type": "code",
   "execution_count": 7,
   "metadata": {},
   "outputs": [
    {
     "name": "stdout",
     "output_type": "stream",
     "text": [
      "The total time to catch data was 34.1120388507843\n"
     ]
    }
   ],
   "source": [
    "file.close()\n",
    "endTime = time.time()\n",
    "totalTime = endTime - startTime\n",
    "\n",
    "print(\"The total time to catch data was \" + str(totalTime))\n"
   ]
  },
  {
   "cell_type": "code",
   "execution_count": null,
   "metadata": {},
   "outputs": [],
   "source": []
  }
 ],
 "metadata": {
  "kernelspec": {
   "display_name": "Python 3",
   "language": "python",
   "name": "python3"
  },
  "language_info": {
   "codemirror_mode": {
    "name": "ipython",
    "version": 3
   },
   "file_extension": ".py",
   "mimetype": "text/x-python",
   "name": "python",
   "nbconvert_exporter": "python",
   "pygments_lexer": "ipython3",
   "version": "3.7.1"
  }
 },
 "nbformat": 4,
 "nbformat_minor": 2
}
